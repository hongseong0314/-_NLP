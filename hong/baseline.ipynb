{
 "cells": [
  {
   "cell_type": "code",
   "execution_count": 4,
   "metadata": {},
   "outputs": [],
   "source": [
    "import numpy as np\n",
    "import pandas as pd\n",
    "from konlpy.tag import Okt"
   ]
  },
  {
   "cell_type": "code",
   "execution_count": 12,
   "metadata": {},
   "outputs": [],
   "source": [
    "import os\n",
    "path = os.getcwd()\n",
    "samples = pd.read_csv(path + \"./sample2000.csv\")"
   ]
  },
  {
   "cell_type": "code",
   "execution_count": 2,
   "metadata": {},
   "outputs": [],
   "source": [
    "# \n",
    "okt = Okt()\n",
    "stop_words=set(['은','는','이','가','하','아','것','들','의','있','되','수','보','주','등','한'])\n",
    "\n",
    "def preprocess(sentence):\n",
    "    word_to_id = {}\n",
    "    id_to_word = {}\n",
    "\n",
    "    # 토큰화\n",
    "    token = [okt.morphs(words) for words in sentence if isinstance(words, str)]\n",
    "\n",
    "    # 불용어\n",
    "    for i, words in enumerate(token):\n",
    "        token[i] = [word for word in words if not word in stop_words]\n",
    "    \n",
    "    # word2dict\n",
    "    for words in token:\n",
    "        for word in words:\n",
    "            if  word not in word_to_id.keys():\n",
    "                new_id = len(word_to_id)\n",
    "                word_to_id[word] = new_id\n",
    "                id_to_word[new_id] = word \n",
    "    \n",
    "    # 말뭉치\n",
    "    corpus_ar = []\n",
    "    for words in token:\n",
    "        for word in words:\n",
    "            corpus = [word_to_id[word] for word in words]\n",
    "        corpus_ar.append(corpus)\n",
    "    del corpus\n",
    "    return np.array(corpus_ar), word_to_id, id_to_word, token"
   ]
  },
  {
   "cell_type": "code",
   "execution_count": 14,
   "metadata": {},
   "outputs": [
    {
     "name": "stderr",
     "output_type": "stream",
     "text": [
      "C:\\Users\\master\\anaconda3\\envs\\tf\\lib\\site-packages\\ipykernel_launcher.py:31: VisibleDeprecationWarning: Creating an ndarray from ragged nested sequences (which is a list-or-tuple of lists-or-tuples-or ndarrays with different lengths or shapes) is deprecated. If you meant to do this, you must specify 'dtype=object' when creating the ndarray\n"
     ]
    }
   ],
   "source": [
    "corpus, word_to_id, id_to_word, token = preprocess(samples['document'])"
   ]
  },
  {
   "cell_type": "code",
   "execution_count": 15,
   "metadata": {},
   "outputs": [],
   "source": [
    "# 길이 50\n",
    "from tensorflow.python.keras.preprocessing.sequence import pad_sequences\n",
    "\n",
    "max_len = 30\n",
    "X = pad_sequences(corpus, maxlen=max_len)\n",
    "# X_test = pad_sequences(token, maxlen=max_len)\n",
    "\n",
    "y= np.array(samples['label'])\n",
    "# y_test = np.array(test_data['label'])"
   ]
  },
  {
   "cell_type": "code",
   "execution_count": 16,
   "metadata": {},
   "outputs": [],
   "source": [
    "from sklearn.model_selection import train_test_split\n",
    "\n",
    "x_train, x_test, y_train, y_test = train_test_split(X, y, test_size=0.1, random_state=42)"
   ]
  },
  {
   "cell_type": "code",
   "execution_count": 17,
   "metadata": {},
   "outputs": [
    {
     "data": {
      "text/plain": [
       "0.535"
      ]
     },
     "execution_count": 17,
     "metadata": {},
     "output_type": "execute_result"
    }
   ],
   "source": [
    "from sklearn.ensemble import RandomForestClassifier\n",
    "\n",
    "rnd_clf = RandomForestClassifier(random_state=42)\n",
    "rnd_clf.fit(x_train, y_train)\n",
    "\n",
    "y_pred_rf = rnd_clf.predict(x_test)\n",
    "\n",
    "np.sum(y_test == y_pred_rf) / len(y_test)"
   ]
  },
  {
   "cell_type": "code",
   "execution_count": null,
   "metadata": {},
   "outputs": [],
   "source": []
  }
 ],
 "metadata": {
  "interpreter": {
   "hash": "607d3766b43d78f0dd16ea21047f8f9bd7c678e3f0986df422ac1f083987895f"
  },
  "kernelspec": {
   "display_name": "Python 3.7.11 64-bit ('tf': conda)",
   "language": "python",
   "name": "python3"
  },
  "language_info": {
   "codemirror_mode": {
    "name": "ipython",
    "version": 3
   },
   "file_extension": ".py",
   "mimetype": "text/x-python",
   "name": "python",
   "nbconvert_exporter": "python",
   "pygments_lexer": "ipython3",
   "version": "3.7.11"
  },
  "orig_nbformat": 4
 },
 "nbformat": 4,
 "nbformat_minor": 2
}
